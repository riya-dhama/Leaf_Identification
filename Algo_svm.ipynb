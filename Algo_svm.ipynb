{
 "cells": [
  {
   "cell_type": "markdown",
   "metadata": {},
   "source": [
    "# Plant Leaf Classification\n",
    "\n",
    "Applying machine learning models for classification of plant leaf images"
   ]
  },
  {
   "cell_type": "markdown",
   "metadata": {},
   "source": [
    "### Importing necessary libraries"
   ]
  },
  {
   "cell_type": "code",
   "execution_count": 1,
   "metadata": {},
   "outputs": [],
   "source": [
    "import numpy as np\n",
    "import pandas as pd\n",
    "import os\n",
    "import string\n",
    "import matplotlib.pyplot as plt\n",
    "%matplotlib inline\n",
    "\n",
    "import cv2\n",
    "from sklearn.model_selection import train_test_split\n",
    "from sklearn.preprocessing import StandardScaler\n",
    "from sklearn import svm\n",
    "from sklearn import metrics\n",
    "from sklearn.model_selection import GridSearchCV\n",
    "from sklearn.decomposition import PCA\n",
    "import mahotas as mt"
   ]
  },
  {
   "cell_type": "markdown",
   "metadata": {},
   "source": [
    "### Reading the dataset"
   ]
  },
  {
   "cell_type": "code",
   "execution_count": 2,
   "metadata": {},
   "outputs": [],
   "source": [
    "dataset = pd.read_csv(r\"C:\\Users\\RAJEEV\\Desktop\\DataScience\\Majorproject\\Project\\code\\leaf_features.csv\")"
   ]
  },
  {
   "cell_type": "code",
   "execution_count": 3,
   "metadata": {},
   "outputs": [
    {
     "data": {
      "text/html": [
       "<div>\n",
       "<style scoped>\n",
       "    .dataframe tbody tr th:only-of-type {\n",
       "        vertical-align: middle;\n",
       "    }\n",
       "\n",
       "    .dataframe tbody tr th {\n",
       "        vertical-align: top;\n",
       "    }\n",
       "\n",
       "    .dataframe thead th {\n",
       "        text-align: right;\n",
       "    }\n",
       "</style>\n",
       "<table border=\"1\" class=\"dataframe\">\n",
       "  <thead>\n",
       "    <tr style=\"text-align: right;\">\n",
       "      <th></th>\n",
       "      <th>Unnamed: 0</th>\n",
       "      <th>area</th>\n",
       "      <th>perimeter</th>\n",
       "      <th>physiological_length</th>\n",
       "      <th>physiological_width</th>\n",
       "      <th>aspect_ratio</th>\n",
       "      <th>rectangularity</th>\n",
       "      <th>circularity</th>\n",
       "      <th>mean_r</th>\n",
       "      <th>mean_g</th>\n",
       "      <th>mean_b</th>\n",
       "      <th>stddev_r</th>\n",
       "      <th>stddev_g</th>\n",
       "      <th>stddev_b</th>\n",
       "      <th>contrast</th>\n",
       "      <th>correlation</th>\n",
       "      <th>inverse_difference_moments</th>\n",
       "      <th>entropy</th>\n",
       "    </tr>\n",
       "  </thead>\n",
       "  <tbody>\n",
       "    <tr>\n",
       "      <th>0</th>\n",
       "      <td>0</td>\n",
       "      <td>232549.0</td>\n",
       "      <td>3144.089858</td>\n",
       "      <td>1180</td>\n",
       "      <td>841</td>\n",
       "      <td>1.403092</td>\n",
       "      <td>4.267402</td>\n",
       "      <td>42.508465</td>\n",
       "      <td>8.865354</td>\n",
       "      <td>11.580899</td>\n",
       "      <td>8.398964</td>\n",
       "      <td>27.800215</td>\n",
       "      <td>32.902279</td>\n",
       "      <td>27.403357</td>\n",
       "      <td>25.910622</td>\n",
       "      <td>0.996379</td>\n",
       "      <td>0.897422</td>\n",
       "      <td>1.931667</td>\n",
       "    </tr>\n",
       "    <tr>\n",
       "      <th>1</th>\n",
       "      <td>0</td>\n",
       "      <td>474562.5</td>\n",
       "      <td>3473.489792</td>\n",
       "      <td>1219</td>\n",
       "      <td>909</td>\n",
       "      <td>1.341034</td>\n",
       "      <td>2.334932</td>\n",
       "      <td>25.423693</td>\n",
       "      <td>23.752019</td>\n",
       "      <td>30.081827</td>\n",
       "      <td>16.240280</td>\n",
       "      <td>43.429020</td>\n",
       "      <td>53.242972</td>\n",
       "      <td>33.112202</td>\n",
       "      <td>19.731937</td>\n",
       "      <td>0.997756</td>\n",
       "      <td>0.822875</td>\n",
       "      <td>3.369693</td>\n",
       "    </tr>\n",
       "    <tr>\n",
       "      <th>2</th>\n",
       "      <td>0</td>\n",
       "      <td>419871.0</td>\n",
       "      <td>3987.515395</td>\n",
       "      <td>1411</td>\n",
       "      <td>1160</td>\n",
       "      <td>1.216379</td>\n",
       "      <td>3.898245</td>\n",
       "      <td>37.869439</td>\n",
       "      <td>17.470908</td>\n",
       "      <td>23.944648</td>\n",
       "      <td>13.222306</td>\n",
       "      <td>36.482656</td>\n",
       "      <td>46.329772</td>\n",
       "      <td>31.868380</td>\n",
       "      <td>22.333380</td>\n",
       "      <td>0.997727</td>\n",
       "      <td>0.846861</td>\n",
       "      <td>3.018129</td>\n",
       "    </tr>\n",
       "    <tr>\n",
       "      <th>3</th>\n",
       "      <td>0</td>\n",
       "      <td>435572.0</td>\n",
       "      <td>3009.041968</td>\n",
       "      <td>985</td>\n",
       "      <td>807</td>\n",
       "      <td>1.220570</td>\n",
       "      <td>1.824945</td>\n",
       "      <td>20.787226</td>\n",
       "      <td>19.343993</td>\n",
       "      <td>25.105472</td>\n",
       "      <td>14.664246</td>\n",
       "      <td>37.988880</td>\n",
       "      <td>47.365957</td>\n",
       "      <td>31.541931</td>\n",
       "      <td>20.139154</td>\n",
       "      <td>0.997820</td>\n",
       "      <td>0.840751</td>\n",
       "      <td>3.097287</td>\n",
       "    </tr>\n",
       "    <tr>\n",
       "      <th>4</th>\n",
       "      <td>0</td>\n",
       "      <td>238858.5</td>\n",
       "      <td>4008.541857</td>\n",
       "      <td>1494</td>\n",
       "      <td>1154</td>\n",
       "      <td>1.294627</td>\n",
       "      <td>7.217981</td>\n",
       "      <td>67.271660</td>\n",
       "      <td>11.221184</td>\n",
       "      <td>14.514543</td>\n",
       "      <td>8.780794</td>\n",
       "      <td>32.630938</td>\n",
       "      <td>39.284535</td>\n",
       "      <td>29.519376</td>\n",
       "      <td>23.323631</td>\n",
       "      <td>0.996223</td>\n",
       "      <td>0.893048</td>\n",
       "      <td>2.002692</td>\n",
       "    </tr>\n",
       "  </tbody>\n",
       "</table>\n",
       "</div>"
      ],
      "text/plain": [
       "   Unnamed: 0      area    perimeter  physiological_length  \\\n",
       "0           0  232549.0  3144.089858                  1180   \n",
       "1           0  474562.5  3473.489792                  1219   \n",
       "2           0  419871.0  3987.515395                  1411   \n",
       "3           0  435572.0  3009.041968                   985   \n",
       "4           0  238858.5  4008.541857                  1494   \n",
       "\n",
       "   physiological_width  aspect_ratio  rectangularity  circularity     mean_r  \\\n",
       "0                  841      1.403092        4.267402    42.508465   8.865354   \n",
       "1                  909      1.341034        2.334932    25.423693  23.752019   \n",
       "2                 1160      1.216379        3.898245    37.869439  17.470908   \n",
       "3                  807      1.220570        1.824945    20.787226  19.343993   \n",
       "4                 1154      1.294627        7.217981    67.271660  11.221184   \n",
       "\n",
       "      mean_g     mean_b   stddev_r   stddev_g   stddev_b   contrast  \\\n",
       "0  11.580899   8.398964  27.800215  32.902279  27.403357  25.910622   \n",
       "1  30.081827  16.240280  43.429020  53.242972  33.112202  19.731937   \n",
       "2  23.944648  13.222306  36.482656  46.329772  31.868380  22.333380   \n",
       "3  25.105472  14.664246  37.988880  47.365957  31.541931  20.139154   \n",
       "4  14.514543   8.780794  32.630938  39.284535  29.519376  23.323631   \n",
       "\n",
       "   correlation  inverse_difference_moments   entropy  \n",
       "0     0.996379                    0.897422  1.931667  \n",
       "1     0.997756                    0.822875  3.369693  \n",
       "2     0.997727                    0.846861  3.018129  \n",
       "3     0.997820                    0.840751  3.097287  \n",
       "4     0.996223                    0.893048  2.002692  "
      ]
     },
     "execution_count": 3,
     "metadata": {},
     "output_type": "execute_result"
    }
   ],
   "source": [
    "dataset.head(5)"
   ]
  },
  {
   "cell_type": "code",
   "execution_count": 4,
   "metadata": {},
   "outputs": [
    {
     "data": {
      "text/plain": [
       "pandas.core.frame.DataFrame"
      ]
     },
     "execution_count": 4,
     "metadata": {},
     "output_type": "execute_result"
    }
   ],
   "source": [
    "type(dataset)"
   ]
  },
  {
   "cell_type": "code",
   "execution_count": 5,
   "metadata": {},
   "outputs": [],
   "source": [
    "img_files = os.listdir(r\"C:\\Users\\RAJEEV\\Desktop\\DataScience\\Majorproject\\Project\\code\\Train\")"
   ]
  },
  {
   "cell_type": "markdown",
   "metadata": {},
   "source": [
    "### Creating target labels\n",
    "\n",
    "Breakpoints are used alongside the image file to create a vector of target labels. The breakpoints are specified in Flavia leaves dataset website."
   ]
  },
  {
   "cell_type": "code",
   "execution_count": 6,
   "metadata": {},
   "outputs": [],
   "source": [
    "#breakpoints = [1001,1059,1060,1122,1552,1616,1123,1194,1195,1267,1268,1323,1324,1385,1386,1437,1497,1551,1438,1496,2001,2050,2051,2113,2114,2165,2166,2230,2231,2290,2291,2346,2347,2423,2424,2485,2486,2546,2547,2612,2616,2675,3001,3055,3056,3110,3111,3175,3176,3229,3230,3281,3282,3334,3335,3389,3390,3446,3447,3510,3511,3563,3566,3621]\n",
    "\n",
    "breakpoints = ['AG-S-001','AG-S-050', #0\n",
    "               'AH-S-001','AH-S-056', #1\n",
    "               'AI-S-004', 'AI-S-063', #2\n",
    "               'AV-S-001','AV-S-123',  #3\n",
    "               'BA-S-001','BA-S-103',  #4\n",
    "               'BJ-S-001','BJ-S-034',  #5\n",
    "               'CC-S-001','CC-S-075',  #6\n",
    "               'CL-S-001','CL-S-057',  #7\n",
    "               'FR-S-001', 'FR-S-063', #8\n",
    "               'J-S-001','J-S-071',  #9\n",
    "               'MI-S-001','MI-S-062', #13 mango\n",
    "               'MK-S-001', 'MK-S-060', #10 #cury\n",
    "               'MO-S-001','MO-S-077', #11 #drumstick\n",
    "               'M-S-001', 'M-S-098',  #12\n",
    "               'NA-S-001', 'NA-S-040', #14\n",
    "               'OT-S-001','OT-S-052', #15\n",
    "               'PG-S-001','PG-S-080', #16\n",
    "               'SC-S-001', 'SC-S-039', #17\n",
    "               'SJ-S-001','SJ-S-056' #18\n",
    "              ]"
   ]
  },
  {
   "cell_type": "code",
   "execution_count": 7,
   "metadata": {},
   "outputs": [],
   "source": [
    "target_list = []\n",
    "for file in img_files:\n",
    "    target_num = (file.split(\".\")[0])\n",
    "    flag = 0\n",
    "    i = 0 \n",
    "    for i in range(0,len(breakpoints),2):\n",
    "        if((target_num >= breakpoints[i]) and (target_num <= breakpoints[i+1])):\n",
    "            flag = 1\n",
    "            break\n",
    "    if(flag==1):\n",
    "        target = int((i/2))\n",
    "        target_list.append(target)"
   ]
  },
  {
   "cell_type": "code",
   "execution_count": 8,
   "metadata": {},
   "outputs": [],
   "source": [
    "# import sys\n",
    "# import numpy\n",
    "# numpy.set_printoptions(threshold=sys.maxsize)"
   ]
  },
  {
   "cell_type": "code",
   "execution_count": 9,
   "metadata": {},
   "outputs": [
    {
     "data": {
      "text/plain": [
       "array([ 0,  0,  0,  0,  0,  0,  0,  0,  0,  0,  0,  0,  0,  0,  0,  0,  0,\n",
       "        0,  0,  0,  0,  0,  0,  0,  0,  0,  0,  0,  0,  0,  0,  0,  0,  0,\n",
       "        0,  0,  0,  0,  0,  0,  0,  0,  0,  0,  0,  0,  0,  1,  1,  1,  1,\n",
       "        1,  1,  1,  1,  1,  1,  1,  1,  1,  1,  1,  1,  1,  1,  1,  1,  1,\n",
       "        1,  1,  1,  1,  1,  1,  1,  1,  1,  1,  1,  1,  1,  1,  1,  1,  1,\n",
       "        1,  1,  1,  1,  1,  1,  1,  1,  1,  1,  1,  1,  1,  1,  1,  2,  2,\n",
       "        2,  2,  2,  2,  2,  2,  2,  2,  2,  2,  2,  2,  2,  2,  2,  2,  2,\n",
       "        2,  2,  2,  2,  2,  2,  2,  2,  2,  2,  2,  2,  2,  2,  2,  2,  2,\n",
       "        2,  2,  2,  2,  2,  2,  2,  2,  2,  2,  2,  2,  2,  2,  2,  2,  2,\n",
       "        2,  2,  2,  2,  3,  3,  3,  3,  3,  3,  3,  3,  3,  3,  3,  3,  3,\n",
       "        3,  3,  3,  3,  3,  3,  3,  3,  3,  3,  3,  3,  3,  3,  3,  3,  3,\n",
       "        3,  3,  3,  3,  3,  3,  3,  3,  3,  3,  3,  3,  3,  3,  3,  3,  3,\n",
       "        3,  3,  3,  3,  3,  3,  3,  3,  3,  3,  3,  3,  3,  3,  3,  3,  3,\n",
       "        3,  3,  3,  3,  3,  3,  3,  3,  3,  3,  3,  3,  3,  3,  3,  3,  3,\n",
       "        3,  3,  3,  3,  3,  3,  3,  3,  3,  3,  3,  3,  3,  3,  3,  3,  3,\n",
       "        3,  3,  3,  3,  3,  3,  3,  3,  3,  3,  3,  3,  3,  3,  3,  3,  3,\n",
       "        3,  3,  3,  4,  4,  4,  4,  4,  4,  4,  4,  4,  4,  4,  4,  4,  4,\n",
       "        4,  4,  4,  4,  4,  4,  4,  4,  4,  4,  4,  4,  4,  4,  4,  4,  4,\n",
       "        4,  4,  4,  4,  4,  4,  4,  4,  4,  4,  4,  4,  4,  4,  4,  4,  4,\n",
       "        4,  4,  4,  4,  4,  4,  4,  4,  4,  4,  4,  4,  4,  4,  4,  4,  4,\n",
       "        4,  4,  4,  4,  4,  4,  4,  4,  4,  4,  4,  4,  4,  4,  4,  4,  4,\n",
       "        4,  4,  4,  4,  4,  4,  4,  4,  4,  4,  4,  4,  4,  4,  4,  4,  4,\n",
       "        5,  5,  5,  5,  5,  5,  5,  5,  5,  5,  5,  5,  5,  5,  5,  5,  5,\n",
       "        5,  5,  5,  5,  5,  5,  5,  5,  5,  5,  5,  5,  5,  5,  5,  6,  6,\n",
       "        6,  6,  6,  6,  6,  6,  6,  6,  6,  6,  6,  6,  6,  6,  6,  6,  6,\n",
       "        6,  6,  6,  6,  6,  6,  6,  6,  6,  6,  6,  6,  6,  6,  6,  6,  6,\n",
       "        6,  6,  6,  6,  6,  6,  6,  6,  6,  6,  6,  6,  6,  6,  6,  6,  6,\n",
       "        6,  6,  6,  6,  6,  6,  6,  6,  6,  6,  6,  6,  6,  6,  6,  6,  6,\n",
       "        7,  7,  7,  7,  7,  7,  7,  7,  7,  7,  7,  7,  7,  7,  7,  7,  7,\n",
       "        7,  7,  7,  7,  7,  7,  7,  7,  7,  7,  7,  7,  7,  7,  7,  7,  7,\n",
       "        7,  7,  7,  7,  7,  7,  7,  7,  7,  7,  7,  7,  7,  7,  7,  7,  7,\n",
       "        7,  7,  7,  8,  8,  8,  8,  8,  8,  8,  8,  8,  8,  8,  8,  8,  8,\n",
       "        8,  8,  8,  8,  8,  8,  8,  8,  8,  8,  8,  8,  8,  8,  8,  8,  8,\n",
       "        8,  8,  8,  8,  8,  8,  8,  8,  8,  8,  8,  8,  8,  8,  8,  8,  8,\n",
       "        8,  8,  8,  8,  8,  8,  8,  8,  8,  8,  8,  8,  9,  9,  9,  9,  9,\n",
       "        9,  9,  9,  9,  9,  9,  9,  9,  9,  9,  9,  9,  9,  9,  9,  9,  9,\n",
       "        9,  9,  9,  9,  9,  9,  9,  9,  9,  9,  9,  9,  9,  9,  9,  9,  9,\n",
       "        9,  9,  9,  9,  9,  9,  9,  9,  9,  9,  9,  9,  9,  9,  9,  9,  9,\n",
       "        9,  9,  9,  9,  9,  9,  9,  9,  9,  9,  9, 13, 13, 13, 13, 13, 13,\n",
       "       13, 13, 13, 13, 13, 13, 13, 13, 13, 13, 13, 13, 13, 13, 13, 13, 13,\n",
       "       13, 13, 13, 13, 13, 13, 13, 13, 13, 13, 13, 13, 13, 13, 13, 13, 13,\n",
       "       13, 13, 13, 13, 13, 13, 13, 13, 13, 13, 13, 13, 13, 13, 13, 13, 13,\n",
       "       13, 13, 13, 13, 13, 13, 13, 13, 13, 13, 13, 13, 13, 13, 13, 13, 13,\n",
       "       13, 13, 13, 13, 13, 13, 13, 13, 13, 13, 13, 13, 13, 13, 13, 13, 13,\n",
       "       13, 10, 10, 10, 10, 10, 10, 10, 10, 10, 10, 10, 10, 10, 10, 10, 10,\n",
       "       10, 10, 10, 10, 10, 10, 10, 10, 10, 10, 10, 10, 10, 10, 10, 10, 10,\n",
       "       10, 10, 10, 10, 10, 10, 10, 10, 10, 10, 10, 10, 10, 10, 10, 10, 10,\n",
       "       10, 10, 10, 10, 10, 10, 10, 10, 11, 11, 11, 11, 11, 11, 11, 11, 11,\n",
       "       11, 11, 11, 11, 11, 11, 11, 11, 11, 11, 11, 11, 11, 11, 11, 11, 11,\n",
       "       11, 11, 11, 11, 11, 11, 11, 11, 11, 11, 11, 11, 11, 11, 11, 11, 11,\n",
       "       11, 11, 11, 11, 11, 11, 11, 11, 11, 11, 11, 11, 11, 12, 12, 12, 12,\n",
       "       12, 12, 12, 12, 12, 12, 12, 12, 12, 12, 12, 12, 12, 12, 12, 12, 12,\n",
       "       12, 12, 12, 12, 12, 12, 12, 12, 12, 12, 12, 12, 12, 12, 12, 12, 12,\n",
       "       12, 12, 12, 12, 12, 12, 12, 12, 12, 12, 12, 12, 12, 12, 12, 12, 12,\n",
       "       12, 12, 12, 12, 12, 12, 12, 12, 12, 12, 12, 12, 12, 12, 12, 12, 12,\n",
       "       12, 14, 14, 14, 14, 14, 14, 14, 14, 14, 14, 14, 14, 14, 14, 14, 14,\n",
       "       14, 14, 14, 14, 14, 14, 14, 14, 14, 14, 14, 14, 14, 14, 14, 14, 14,\n",
       "       14, 14, 14, 14, 15, 15, 15, 15, 15, 15, 15, 15, 15, 15, 15, 15, 15,\n",
       "       15, 15, 15, 15, 15, 15, 15, 15, 15, 15, 15, 15, 15, 15, 15, 15, 15,\n",
       "       15, 15, 15, 15, 15, 15, 15, 15, 15, 15, 15, 15, 15, 15, 15, 15, 15,\n",
       "       15, 16, 16, 16, 16, 16, 16, 16, 16, 16, 16, 16, 16, 16, 16, 16, 16,\n",
       "       16, 16, 16, 16, 16, 16, 16, 16, 16, 16, 16, 16, 16, 16, 16, 16, 16,\n",
       "       16, 16, 16, 16, 16, 16, 16, 16, 16, 16, 16, 16, 16, 16, 16, 16, 16,\n",
       "       16, 16, 16, 16, 16, 16, 16, 16, 16, 16, 16, 16, 16, 16, 16, 16, 16,\n",
       "       16, 16, 16, 16, 16, 16, 16, 16, 17, 17, 17, 17, 17, 17, 17, 17, 17,\n",
       "       17, 17, 17, 17, 17, 17, 17, 17, 17, 17, 17, 17, 17, 17, 17, 17, 17,\n",
       "       17, 17, 17, 17, 17, 17, 17, 17, 17, 17, 18, 18, 18, 18, 18, 18, 18,\n",
       "       18, 18, 18, 18, 18, 18, 18, 18, 18, 18, 18, 18, 18, 18, 18, 18, 18,\n",
       "       18, 18, 18, 18, 18, 18, 18, 18, 18, 18, 18, 18, 18, 18, 18, 18, 18,\n",
       "       18, 18, 18, 18, 18, 18, 18, 18, 18, 18, 18])"
      ]
     },
     "execution_count": 9,
     "metadata": {},
     "output_type": "execute_result"
    }
   ],
   "source": [
    "y = np.array(target_list)\n",
    "y"
   ]
  },
  {
   "cell_type": "code",
   "execution_count": 10,
   "metadata": {},
   "outputs": [],
   "source": [
    "X = dataset.iloc[:,1:]"
   ]
  },
  {
   "cell_type": "code",
   "execution_count": 11,
   "metadata": {},
   "outputs": [
    {
     "data": {
      "text/html": [
       "<div>\n",
       "<style scoped>\n",
       "    .dataframe tbody tr th:only-of-type {\n",
       "        vertical-align: middle;\n",
       "    }\n",
       "\n",
       "    .dataframe tbody tr th {\n",
       "        vertical-align: top;\n",
       "    }\n",
       "\n",
       "    .dataframe thead th {\n",
       "        text-align: right;\n",
       "    }\n",
       "</style>\n",
       "<table border=\"1\" class=\"dataframe\">\n",
       "  <thead>\n",
       "    <tr style=\"text-align: right;\">\n",
       "      <th></th>\n",
       "      <th>area</th>\n",
       "      <th>perimeter</th>\n",
       "      <th>physiological_length</th>\n",
       "      <th>physiological_width</th>\n",
       "      <th>aspect_ratio</th>\n",
       "      <th>rectangularity</th>\n",
       "      <th>circularity</th>\n",
       "      <th>mean_r</th>\n",
       "      <th>mean_g</th>\n",
       "      <th>mean_b</th>\n",
       "      <th>stddev_r</th>\n",
       "      <th>stddev_g</th>\n",
       "      <th>stddev_b</th>\n",
       "      <th>contrast</th>\n",
       "      <th>correlation</th>\n",
       "      <th>inverse_difference_moments</th>\n",
       "      <th>entropy</th>\n",
       "    </tr>\n",
       "  </thead>\n",
       "  <tbody>\n",
       "    <tr>\n",
       "      <th>0</th>\n",
       "      <td>232549.0</td>\n",
       "      <td>3144.089858</td>\n",
       "      <td>1180</td>\n",
       "      <td>841</td>\n",
       "      <td>1.403092</td>\n",
       "      <td>4.267402</td>\n",
       "      <td>42.508465</td>\n",
       "      <td>8.865354</td>\n",
       "      <td>11.580899</td>\n",
       "      <td>8.398964</td>\n",
       "      <td>27.800215</td>\n",
       "      <td>32.902279</td>\n",
       "      <td>27.403357</td>\n",
       "      <td>25.910622</td>\n",
       "      <td>0.996379</td>\n",
       "      <td>0.897422</td>\n",
       "      <td>1.931667</td>\n",
       "    </tr>\n",
       "    <tr>\n",
       "      <th>1</th>\n",
       "      <td>474562.5</td>\n",
       "      <td>3473.489792</td>\n",
       "      <td>1219</td>\n",
       "      <td>909</td>\n",
       "      <td>1.341034</td>\n",
       "      <td>2.334932</td>\n",
       "      <td>25.423693</td>\n",
       "      <td>23.752019</td>\n",
       "      <td>30.081827</td>\n",
       "      <td>16.240280</td>\n",
       "      <td>43.429020</td>\n",
       "      <td>53.242972</td>\n",
       "      <td>33.112202</td>\n",
       "      <td>19.731937</td>\n",
       "      <td>0.997756</td>\n",
       "      <td>0.822875</td>\n",
       "      <td>3.369693</td>\n",
       "    </tr>\n",
       "    <tr>\n",
       "      <th>2</th>\n",
       "      <td>419871.0</td>\n",
       "      <td>3987.515395</td>\n",
       "      <td>1411</td>\n",
       "      <td>1160</td>\n",
       "      <td>1.216379</td>\n",
       "      <td>3.898245</td>\n",
       "      <td>37.869439</td>\n",
       "      <td>17.470908</td>\n",
       "      <td>23.944648</td>\n",
       "      <td>13.222306</td>\n",
       "      <td>36.482656</td>\n",
       "      <td>46.329772</td>\n",
       "      <td>31.868380</td>\n",
       "      <td>22.333380</td>\n",
       "      <td>0.997727</td>\n",
       "      <td>0.846861</td>\n",
       "      <td>3.018129</td>\n",
       "    </tr>\n",
       "    <tr>\n",
       "      <th>3</th>\n",
       "      <td>435572.0</td>\n",
       "      <td>3009.041968</td>\n",
       "      <td>985</td>\n",
       "      <td>807</td>\n",
       "      <td>1.220570</td>\n",
       "      <td>1.824945</td>\n",
       "      <td>20.787226</td>\n",
       "      <td>19.343993</td>\n",
       "      <td>25.105472</td>\n",
       "      <td>14.664246</td>\n",
       "      <td>37.988880</td>\n",
       "      <td>47.365957</td>\n",
       "      <td>31.541931</td>\n",
       "      <td>20.139154</td>\n",
       "      <td>0.997820</td>\n",
       "      <td>0.840751</td>\n",
       "      <td>3.097287</td>\n",
       "    </tr>\n",
       "    <tr>\n",
       "      <th>4</th>\n",
       "      <td>238858.5</td>\n",
       "      <td>4008.541857</td>\n",
       "      <td>1494</td>\n",
       "      <td>1154</td>\n",
       "      <td>1.294627</td>\n",
       "      <td>7.217981</td>\n",
       "      <td>67.271660</td>\n",
       "      <td>11.221184</td>\n",
       "      <td>14.514543</td>\n",
       "      <td>8.780794</td>\n",
       "      <td>32.630938</td>\n",
       "      <td>39.284535</td>\n",
       "      <td>29.519376</td>\n",
       "      <td>23.323631</td>\n",
       "      <td>0.996223</td>\n",
       "      <td>0.893048</td>\n",
       "      <td>2.002692</td>\n",
       "    </tr>\n",
       "  </tbody>\n",
       "</table>\n",
       "</div>"
      ],
      "text/plain": [
       "       area    perimeter  physiological_length  physiological_width  \\\n",
       "0  232549.0  3144.089858                  1180                  841   \n",
       "1  474562.5  3473.489792                  1219                  909   \n",
       "2  419871.0  3987.515395                  1411                 1160   \n",
       "3  435572.0  3009.041968                   985                  807   \n",
       "4  238858.5  4008.541857                  1494                 1154   \n",
       "\n",
       "   aspect_ratio  rectangularity  circularity     mean_r     mean_g     mean_b  \\\n",
       "0      1.403092        4.267402    42.508465   8.865354  11.580899   8.398964   \n",
       "1      1.341034        2.334932    25.423693  23.752019  30.081827  16.240280   \n",
       "2      1.216379        3.898245    37.869439  17.470908  23.944648  13.222306   \n",
       "3      1.220570        1.824945    20.787226  19.343993  25.105472  14.664246   \n",
       "4      1.294627        7.217981    67.271660  11.221184  14.514543   8.780794   \n",
       "\n",
       "    stddev_r   stddev_g   stddev_b   contrast  correlation  \\\n",
       "0  27.800215  32.902279  27.403357  25.910622     0.996379   \n",
       "1  43.429020  53.242972  33.112202  19.731937     0.997756   \n",
       "2  36.482656  46.329772  31.868380  22.333380     0.997727   \n",
       "3  37.988880  47.365957  31.541931  20.139154     0.997820   \n",
       "4  32.630938  39.284535  29.519376  23.323631     0.996223   \n",
       "\n",
       "   inverse_difference_moments   entropy  \n",
       "0                    0.897422  1.931667  \n",
       "1                    0.822875  3.369693  \n",
       "2                    0.846861  3.018129  \n",
       "3                    0.840751  3.097287  \n",
       "4                    0.893048  2.002692  "
      ]
     },
     "execution_count": 11,
     "metadata": {},
     "output_type": "execute_result"
    }
   ],
   "source": [
    "X.head(5)"
   ]
  },
  {
   "cell_type": "code",
   "execution_count": 12,
   "metadata": {},
   "outputs": [
    {
     "data": {
      "text/plain": [
       "array([0, 0, 0, 0, 0])"
      ]
     },
     "execution_count": 12,
     "metadata": {},
     "output_type": "execute_result"
    }
   ],
   "source": [
    "y[0:5]"
   ]
  },
  {
   "cell_type": "markdown",
   "metadata": {},
   "source": [
    "### Train test split"
   ]
  },
  {
   "cell_type": "code",
   "execution_count": 13,
   "metadata": {},
   "outputs": [
    {
     "data": {
      "text/html": [
       "<div>\n",
       "<style scoped>\n",
       "    .dataframe tbody tr th:only-of-type {\n",
       "        vertical-align: middle;\n",
       "    }\n",
       "\n",
       "    .dataframe tbody tr th {\n",
       "        vertical-align: top;\n",
       "    }\n",
       "\n",
       "    .dataframe thead th {\n",
       "        text-align: right;\n",
       "    }\n",
       "</style>\n",
       "<table border=\"1\" class=\"dataframe\">\n",
       "  <thead>\n",
       "    <tr style=\"text-align: right;\">\n",
       "      <th></th>\n",
       "      <th>area</th>\n",
       "      <th>perimeter</th>\n",
       "      <th>physiological_length</th>\n",
       "      <th>physiological_width</th>\n",
       "      <th>aspect_ratio</th>\n",
       "      <th>rectangularity</th>\n",
       "      <th>circularity</th>\n",
       "      <th>mean_r</th>\n",
       "      <th>mean_g</th>\n",
       "      <th>mean_b</th>\n",
       "      <th>stddev_r</th>\n",
       "      <th>stddev_g</th>\n",
       "      <th>stddev_b</th>\n",
       "      <th>contrast</th>\n",
       "      <th>correlation</th>\n",
       "      <th>inverse_difference_moments</th>\n",
       "      <th>entropy</th>\n",
       "    </tr>\n",
       "  </thead>\n",
       "  <tbody>\n",
       "    <tr>\n",
       "      <th>696</th>\n",
       "      <td>819788.0</td>\n",
       "      <td>3698.639947</td>\n",
       "      <td>1025</td>\n",
       "      <td>1015</td>\n",
       "      <td>1.009852</td>\n",
       "      <td>1.269078</td>\n",
       "      <td>16.687165</td>\n",
       "      <td>45.928115</td>\n",
       "      <td>58.537453</td>\n",
       "      <td>12.405293</td>\n",
       "      <td>55.822006</td>\n",
       "      <td>69.383294</td>\n",
       "      <td>28.062850</td>\n",
       "      <td>43.311497</td>\n",
       "      <td>0.995813</td>\n",
       "      <td>0.652087</td>\n",
       "      <td>5.936058</td>\n",
       "    </tr>\n",
       "    <tr>\n",
       "      <th>684</th>\n",
       "      <td>600318.5</td>\n",
       "      <td>3182.456180</td>\n",
       "      <td>955</td>\n",
       "      <td>914</td>\n",
       "      <td>1.044858</td>\n",
       "      <td>1.454011</td>\n",
       "      <td>16.871090</td>\n",
       "      <td>30.592784</td>\n",
       "      <td>39.256483</td>\n",
       "      <td>8.525418</td>\n",
       "      <td>47.908842</td>\n",
       "      <td>59.760543</td>\n",
       "      <td>25.502266</td>\n",
       "      <td>19.066587</td>\n",
       "      <td>0.998184</td>\n",
       "      <td>0.800205</td>\n",
       "      <td>4.277167</td>\n",
       "    </tr>\n",
       "    <tr>\n",
       "      <th>811</th>\n",
       "      <td>181340.5</td>\n",
       "      <td>2030.088651</td>\n",
       "      <td>449</td>\n",
       "      <td>758</td>\n",
       "      <td>0.592348</td>\n",
       "      <td>1.876812</td>\n",
       "      <td>22.726638</td>\n",
       "      <td>8.299845</td>\n",
       "      <td>11.424357</td>\n",
       "      <td>7.248509</td>\n",
       "      <td>28.302596</td>\n",
       "      <td>35.994630</td>\n",
       "      <td>25.923289</td>\n",
       "      <td>6.589730</td>\n",
       "      <td>0.998602</td>\n",
       "      <td>0.929617</td>\n",
       "      <td>1.552113</td>\n",
       "    </tr>\n",
       "    <tr>\n",
       "      <th>56</th>\n",
       "      <td>1001621.0</td>\n",
       "      <td>3917.001545</td>\n",
       "      <td>1341</td>\n",
       "      <td>1077</td>\n",
       "      <td>1.245125</td>\n",
       "      <td>1.441920</td>\n",
       "      <td>15.318071</td>\n",
       "      <td>48.957090</td>\n",
       "      <td>57.639641</td>\n",
       "      <td>46.593546</td>\n",
       "      <td>51.010884</td>\n",
       "      <td>57.424994</td>\n",
       "      <td>48.648915</td>\n",
       "      <td>46.592276</td>\n",
       "      <td>0.996318</td>\n",
       "      <td>0.625725</td>\n",
       "      <td>6.751028</td>\n",
       "    </tr>\n",
       "    <tr>\n",
       "      <th>1094</th>\n",
       "      <td>783621.5</td>\n",
       "      <td>3810.685761</td>\n",
       "      <td>1366</td>\n",
       "      <td>828</td>\n",
       "      <td>1.649758</td>\n",
       "      <td>1.443360</td>\n",
       "      <td>18.531046</td>\n",
       "      <td>43.017627</td>\n",
       "      <td>55.653026</td>\n",
       "      <td>23.764295</td>\n",
       "      <td>53.655369</td>\n",
       "      <td>67.382031</td>\n",
       "      <td>37.045614</td>\n",
       "      <td>26.876422</td>\n",
       "      <td>0.997319</td>\n",
       "      <td>0.674613</td>\n",
       "      <td>5.493838</td>\n",
       "    </tr>\n",
       "  </tbody>\n",
       "</table>\n",
       "</div>"
      ],
      "text/plain": [
       "           area    perimeter  physiological_length  physiological_width  \\\n",
       "696    819788.0  3698.639947                  1025                 1015   \n",
       "684    600318.5  3182.456180                   955                  914   \n",
       "811    181340.5  2030.088651                   449                  758   \n",
       "56    1001621.0  3917.001545                  1341                 1077   \n",
       "1094   783621.5  3810.685761                  1366                  828   \n",
       "\n",
       "      aspect_ratio  rectangularity  circularity     mean_r     mean_g  \\\n",
       "696       1.009852        1.269078    16.687165  45.928115  58.537453   \n",
       "684       1.044858        1.454011    16.871090  30.592784  39.256483   \n",
       "811       0.592348        1.876812    22.726638   8.299845  11.424357   \n",
       "56        1.245125        1.441920    15.318071  48.957090  57.639641   \n",
       "1094      1.649758        1.443360    18.531046  43.017627  55.653026   \n",
       "\n",
       "         mean_b   stddev_r   stddev_g   stddev_b   contrast  correlation  \\\n",
       "696   12.405293  55.822006  69.383294  28.062850  43.311497     0.995813   \n",
       "684    8.525418  47.908842  59.760543  25.502266  19.066587     0.998184   \n",
       "811    7.248509  28.302596  35.994630  25.923289   6.589730     0.998602   \n",
       "56    46.593546  51.010884  57.424994  48.648915  46.592276     0.996318   \n",
       "1094  23.764295  53.655369  67.382031  37.045614  26.876422     0.997319   \n",
       "\n",
       "      inverse_difference_moments   entropy  \n",
       "696                     0.652087  5.936058  \n",
       "684                     0.800205  4.277167  \n",
       "811                     0.929617  1.552113  \n",
       "56                      0.625725  6.751028  \n",
       "1094                    0.674613  5.493838  "
      ]
     },
     "execution_count": 13,
     "metadata": {},
     "output_type": "execute_result"
    }
   ],
   "source": [
    "X_train, X_test, y_train, y_test = train_test_split(X, y, test_size=0.3, random_state = 142)\n",
    "X_train.head(5)"
   ]
  },
  {
   "cell_type": "code",
   "execution_count": 14,
   "metadata": {},
   "outputs": [
    {
     "data": {
      "text/plain": [
       "array([13, 13, 11,  1, 16])"
      ]
     },
     "execution_count": 14,
     "metadata": {},
     "output_type": "execute_result"
    }
   ],
   "source": [
    "y_train[0:5]"
   ]
  },
  {
   "cell_type": "markdown",
   "metadata": {},
   "source": [
    "### Feature Scaling\n",
    "\n",
    "##### using standard scalar"
   ]
  },
  {
   "cell_type": "code",
   "execution_count": 15,
   "metadata": {},
   "outputs": [],
   "source": [
    "sc_X = StandardScaler()\n",
    "X_train = sc_X.fit_transform(X_train)\n",
    "X_test = sc_X.transform(X_test)"
   ]
  },
  {
   "cell_type": "code",
   "execution_count": 16,
   "metadata": {},
   "outputs": [
    {
     "data": {
      "text/plain": [
       "array([[ 1.01219932,  0.46905456, -0.21528807,  0.50820128, -0.48762668,\n",
       "        -0.59816818, -0.47478876,  1.54601934,  1.71591184, -0.67165697,\n",
       "         1.49822604,  1.75864091, -0.77196203,  0.27790727, -0.52469453,\n",
       "        -1.35305388,  1.28737852],\n",
       "       [-0.02760756, -0.20893927, -0.43422125,  0.07410847, -0.42839715,\n",
       "        -0.38654626, -0.45284373,  0.18380122,  0.29218165, -1.13113534,\n",
       "         0.57497002,  0.83507891, -1.1890659 , -0.73604385,  0.67702093,\n",
       "         0.58779858, -0.12198433]])"
      ]
     },
     "execution_count": 16,
     "metadata": {},
     "output_type": "execute_result"
    }
   ],
   "source": [
    "X_train[0:2]"
   ]
  },
  {
   "cell_type": "code",
   "execution_count": 17,
   "metadata": {},
   "outputs": [
    {
     "data": {
      "text/plain": [
       "array([13, 13])"
      ]
     },
     "execution_count": 17,
     "metadata": {},
     "output_type": "execute_result"
    }
   ],
   "source": [
    "y_train[0:2]"
   ]
  },
  {
   "cell_type": "code",
   "execution_count": null,
   "metadata": {},
   "outputs": [],
   "source": []
  },
  {
   "cell_type": "code",
   "execution_count": null,
   "metadata": {},
   "outputs": [],
   "source": []
  },
  {
   "cell_type": "code",
   "execution_count": 62,
   "metadata": {},
   "outputs": [],
   "source": [
    "from sklearn.linear_model import LogisticRegression\n",
    "from sklearn.tree import DecisionTreeClassifier\n",
    "from sklearn.naive_bayes import GaussianNB\n",
    "from sklearn.ensemble import RandomForestClassifier\n",
    "from sklearn.metrics import confusion_matrix,accuracy_score, classification_report\n",
    "\n",
    "\n",
    "\n",
    "\n",
    "from sklearn.linear_model import LogisticRegression\n",
    "from sklearn.naive_bayes import BernoulliNB\n",
    "from sklearn.neighbors import KNeighborsClassifier\n",
    "from sklearn import svm\n",
    "from sklearn.tree import DecisionTreeClassifier\n",
    "\n",
    "from sklearn.ensemble import RandomForestClassifier\n",
    "from sklearn.ensemble import GradientBoostingClassifier\n",
    "from sklearn.ensemble import AdaBoostClassifier\n",
    "import xgboost as xgb"
   ]
  },
  {
   "cell_type": "markdown",
   "metadata": {},
   "source": [
    "###  naive bayes"
   ]
  },
  {
   "cell_type": "code",
   "execution_count": 53,
   "metadata": {},
   "outputs": [],
   "source": [
    "nb = GaussianNB()\n",
    "nb = nb.fit(X_train, y_train)"
   ]
  },
  {
   "cell_type": "code",
   "execution_count": 54,
   "metadata": {},
   "outputs": [],
   "source": [
    "y_prednb_test = nb.predict(X_test)\n",
    "y_prednb_train = nb.predict(X_train)"
   ]
  },
  {
   "cell_type": "code",
   "execution_count": 55,
   "metadata": {},
   "outputs": [
    {
     "name": "stdout",
     "output_type": "stream",
     "text": [
      "Accuracy on Training Data 0.7717391304347826\n",
      "Accuracy on Test Data 0.7415730337078652\n"
     ]
    }
   ],
   "source": [
    "print (\"Accuracy on Training Data\", nb.score(X_train, y_train))\n",
    "print (\"Accuracy on Test Data\", nb.score(X_test, y_test))"
   ]
  },
  {
   "cell_type": "markdown",
   "metadata": {},
   "source": [
    "### RF"
   ]
  },
  {
   "cell_type": "code",
   "execution_count": 56,
   "metadata": {},
   "outputs": [
    {
     "data": {
      "text/plain": [
       "RandomForestClassifier()"
      ]
     },
     "execution_count": 56,
     "metadata": {},
     "output_type": "execute_result"
    }
   ],
   "source": [
    "rf = RandomForestClassifier()\n",
    "rf.fit(X_train, y_train)"
   ]
  },
  {
   "cell_type": "code",
   "execution_count": 63,
   "metadata": {},
   "outputs": [],
   "source": [
    "train_pred_rf = rf.predict(X_train)\n",
    "pred_rf = rf.predict(X_test)"
   ]
  },
  {
   "cell_type": "code",
   "execution_count": 64,
   "metadata": {},
   "outputs": [
    {
     "name": "stdout",
     "output_type": "stream",
     "text": [
      "Training Accuracy:  1.0\n",
      "Test Accuracy:  0.8735955056179775\n"
     ]
    }
   ],
   "source": [
    "print(\"Training Accuracy: \",accuracy_score(y_train, train_pred_rf))\n",
    "print(\"Test Accuracy: \",accuracy_score(y_test, pred_rf))"
   ]
  },
  {
   "cell_type": "markdown",
   "metadata": {},
   "source": [
    "### DT"
   ]
  },
  {
   "cell_type": "code",
   "execution_count": 65,
   "metadata": {},
   "outputs": [],
   "source": [
    "dt = DecisionTreeClassifier()\n",
    "dt = dt.fit(X_train,y_train) "
   ]
  },
  {
   "cell_type": "code",
   "execution_count": 66,
   "metadata": {},
   "outputs": [],
   "source": [
    "y_pred_test_dtf = dt.predict(X_test)\n",
    "y_pred_train_dtf = dt.predict(X_train)"
   ]
  },
  {
   "cell_type": "code",
   "execution_count": 67,
   "metadata": {},
   "outputs": [
    {
     "name": "stdout",
     "output_type": "stream",
     "text": [
      "Accuracy on Training Data 1.0\n",
      "Accuracy on Test Data 0.7415730337078652\n"
     ]
    }
   ],
   "source": [
    "print (\"Accuracy on Training Data\", dt.score(X_train, y_train))\n",
    "print (\"Accuracy on Test Data\", dt.score(X_test, y_test))"
   ]
  },
  {
   "cell_type": "markdown",
   "metadata": {},
   "source": [
    "### gb"
   ]
  },
  {
   "cell_type": "code",
   "execution_count": 69,
   "metadata": {},
   "outputs": [],
   "source": [
    "gb = GradientBoostingClassifier()\n",
    "\n",
    "# Training model\n",
    "gb.fit(X_train, y_train)\n",
    "\n",
    "# Prediction on test and train set\n",
    "gb_pred_train = gb.predict(X_train)\n",
    "gb_pred = gb.predict(X_test)"
   ]
  },
  {
   "cell_type": "code",
   "execution_count": 70,
   "metadata": {},
   "outputs": [
    {
     "name": "stdout",
     "output_type": "stream",
     "text": [
      "Training Accuracy:  1.0\n",
      "Test Accuracy:  0.848314606741573\n"
     ]
    }
   ],
   "source": [
    "print(\"Training Accuracy: \",accuracy_score(y_train, gb_pred_train))\n",
    "print(\"Test Accuracy: \", accuracy_score(y_test, gb_pred))"
   ]
  },
  {
   "cell_type": "markdown",
   "metadata": {},
   "source": [
    "### knn"
   ]
  },
  {
   "cell_type": "code",
   "execution_count": 71,
   "metadata": {},
   "outputs": [
    {
     "data": {
      "text/plain": [
       "KNeighborsClassifier(n_neighbors=1)"
      ]
     },
     "execution_count": 71,
     "metadata": {},
     "output_type": "execute_result"
    }
   ],
   "source": [
    "from sklearn.neighbors import KNeighborsClassifier\n",
    "knn = KNeighborsClassifier(n_neighbors= 1)\n",
    "knn.fit(X_train, y_train)"
   ]
  },
  {
   "cell_type": "code",
   "execution_count": 73,
   "metadata": {},
   "outputs": [
    {
     "name": "stdout",
     "output_type": "stream",
     "text": [
      "Training Accuracy:  1.0\n",
      "Test Accuracy:  0.8286516853932584\n"
     ]
    }
   ],
   "source": [
    "knn_pred_train = knn.predict(X_train)\n",
    "knn_pred = knn.predict(X_test)\n",
    "print(\"Training Accuracy: \",accuracy_score(y_train, knn_pred_train))\n",
    "print(\"Test Accuracy: \",accuracy_score(y_test, knn_pred))"
   ]
  },
  {
   "cell_type": "code",
   "execution_count": 74,
   "metadata": {},
   "outputs": [],
   "source": [
    "from sklearn.model_selection import cross_val_score\n",
    "accuracy_rate = [ ]\n",
    "for i in range(1,40):\n",
    "    k = KNeighborsClassifier(n_neighbors=i)\n",
    "    score = cross_val_score(k, X_train, y_train, cv=10)\n",
    "    accuracy_rate.append(score.mean())"
   ]
  },
  {
   "cell_type": "code",
   "execution_count": 75,
   "metadata": {},
   "outputs": [
    {
     "data": {
      "image/png": "[encoded data removed]",
      "text/plain": [
       "<Figure size 720x432 with 1 Axes>"
      ]
     },
     "metadata": {
      "needs_background": "light"
     },
     "output_type": "display_data"
    }
   ],
   "source": [
    "plt.figure(figsize=(10,6))\n",
    "plt.plot(range(1,40), accuracy_rate, color='blue', linestyle='dashed', marker='o', markerfacecolor='red', markersize=10)\n",
    "plt.title('Accuracy Rate vs. K Value')\n",
    "plt.xlabel('K')\n",
    "plt.ylabel('Accuracy Rate')\n",
    "plt.show()"
   ]
  },
  {
   "cell_type": "code",
   "execution_count": 76,
   "metadata": {},
   "outputs": [],
   "source": [
    "error_rate = [ ]\n",
    "for i in range(1,40):\n",
    "    k = KNeighborsClassifier(n_neighbors=i)\n",
    "    score = cross_val_score(k, X_train, y_train, cv=10)\n",
    "    error_rate.append(1-score.mean())"
   ]
  },
  {
   "cell_type": "code",
   "execution_count": 77,
   "metadata": {},
   "outputs": [
    {
     "data": {
      "text/plain": [
       "Text(0, 0.5, 'Error Rate')"
      ]
     },
     "execution_count": 77,
     "metadata": {},
     "output_type": "execute_result"
    },
    {
     "data": {
      "image/png": "[encoded data removed]",
      "text/plain": [
       "<Figure size 720x432 with 1 Axes>"
      ]
     },
     "metadata": {
      "needs_background": "light"
     },
     "output_type": "display_data"
    }
   ],
   "source": [
    "plt.figure(figsize=(10,6))\n",
    "plt.plot(range(1,40), error_rate, color='blue', linestyle='dashed', marker='o', markerfacecolor='red', markersize=10)\n",
    "plt.title('Error Rate vs. K Value')\n",
    "plt.xlabel('K')\n",
    "plt.ylabel('Error Rate')"
   ]
  },
  {
   "cell_type": "code",
   "execution_count": null,
   "metadata": {},
   "outputs": [],
   "source": []
  },
  {
   "cell_type": "markdown",
   "metadata": {},
   "source": [
    "### xg"
   ]
  },
  {
   "cell_type": "code",
   "execution_count": 79,
   "metadata": {},
   "outputs": [
    {
     "name": "stderr",
     "output_type": "stream",
     "text": [
      "C:\\Users\\RAJEEV\\anaconda3\\lib\\site-packages\\xgboost\\sklearn.py:1146: UserWarning: The use of label encoder in XGBClassifier is deprecated and will be removed in a future release. To remove this warning, do the following: 1) Pass option use_label_encoder=False when constructing XGBClassifier object; and 2) Encode your labels (y) as integers starting with 0, i.e. 0, 1, 2, ..., [num_class - 1].\n",
      "  warnings.warn(label_encoder_deprecation_msg, UserWarning)\n"
     ]
    },
    {
     "name": "stdout",
     "output_type": "stream",
     "text": [
      "[12:15:45] WARNING: C:/Users/Administrator/workspace/xgboost-win64_release_1.4.0/src/learner.cc:1095: Starting in XGBoost 1.3.0, the default evaluation metric used with the objective 'multi:softprob' was changed from 'merror' to 'mlogloss'. Explicitly set eval_metric if you'd like to restore the old behavior.\n"
     ]
    },
    {
     "data": {
      "text/plain": [
       "XGBClassifier(base_score=0.5, booster='gbtree', colsample_bylevel=1,\n",
       "              colsample_bynode=1, colsample_bytree=1, gamma=0, gpu_id=-1,\n",
       "              importance_type='gain', interaction_constraints='',\n",
       "              learning_rate=0.300000012, max_delta_step=0, max_depth=6,\n",
       "              min_child_weight=1, missing=nan, monotone_constraints='()',\n",
       "              n_estimators=100, n_jobs=4, num_parallel_tree=1,\n",
       "              objective='multi:softprob', random_state=0, reg_alpha=0,\n",
       "              reg_lambda=1, scale_pos_weight=None, subsample=1,\n",
       "              tree_method='exact', validate_parameters=1, verbosity=None)"
      ]
     },
     "execution_count": 79,
     "metadata": {},
     "output_type": "execute_result"
    }
   ],
   "source": [
    "xg = xgb.XGBClassifier()\n",
    "\n",
    "# Training model\n",
    "xg.fit(X_train, y_train)"
   ]
  },
  {
   "cell_type": "code",
   "execution_count": 81,
   "metadata": {},
   "outputs": [],
   "source": [
    "xg_pred_train = xg.predict(X_train)\n",
    "xg_pred = xg.predict(X_test)"
   ]
  },
  {
   "cell_type": "code",
   "execution_count": 82,
   "metadata": {},
   "outputs": [
    {
     "name": "stdout",
     "output_type": "stream",
     "text": [
      "Training Accuracy:  1.0\n",
      "Test Accuracy:  0.851123595505618\n"
     ]
    }
   ],
   "source": [
    "print(\"Training Accuracy: \",accuracy_score(y_train, xg_pred_train))\n",
    "print(\"Test Accuracy: \",accuracy_score(y_test, xg_pred))"
   ]
  },
  {
   "cell_type": "code",
   "execution_count": null,
   "metadata": {},
   "outputs": [],
   "source": []
  },
  {
   "cell_type": "code",
   "execution_count": null,
   "metadata": {},
   "outputs": [],
   "source": []
  },
  {
   "cell_type": "code",
   "execution_count": null,
   "metadata": {},
   "outputs": [],
   "source": []
  },
  {
   "cell_type": "code",
   "execution_count": null,
   "metadata": {},
   "outputs": [],
   "source": []
  },
  {
   "cell_type": "code",
   "execution_count": null,
   "metadata": {},
   "outputs": [],
   "source": []
  },
  {
   "cell_type": "code",
   "execution_count": null,
   "metadata": {},
   "outputs": [],
   "source": []
  },
  {
   "cell_type": "markdown",
   "metadata": {},
   "source": [
    "### Applying SVM classifier model"
   ]
  },
  {
   "cell_type": "code",
   "execution_count": 20,
   "metadata": {},
   "outputs": [
    {
     "data": {
      "text/plain": [
       "SVC()"
      ]
     },
     "execution_count": 20,
     "metadata": {},
     "output_type": "execute_result"
    }
   ],
   "source": [
    "clf = svm.SVC()\n",
    "clf.fit(X_train,y_train)"
   ]
  },
  {
   "cell_type": "code",
   "execution_count": 21,
   "metadata": {},
   "outputs": [],
   "source": [
    "y_pred = clf.predict(X_test)"
   ]
  },
  {
   "cell_type": "code",
   "execution_count": 83,
   "metadata": {},
   "outputs": [],
   "source": [
    "import pickle\n",
    "pickle.dump(clf, open(\"clf.pkl\", 'wb'))"
   ]
  },
  {
   "cell_type": "code",
   "execution_count": null,
   "metadata": {},
   "outputs": [],
   "source": []
  },
  {
   "cell_type": "markdown",
   "metadata": {
    "collapsed": true
   },
   "source": [
    "#### metrics"
   ]
  },
  {
   "cell_type": "code",
   "execution_count": 22,
   "metadata": {},
   "outputs": [
    {
     "data": {
      "text/plain": [
       "0.848314606741573"
      ]
     },
     "execution_count": 22,
     "metadata": {},
     "output_type": "execute_result"
    }
   ],
   "source": [
    "metrics.accuracy_score(y_test, y_pred)"
   ]
  },
  {
   "cell_type": "code",
   "execution_count": 23,
   "metadata": {},
   "outputs": [
    {
     "name": "stdout",
     "output_type": "stream",
     "text": [
      "              precision    recall  f1-score   support\n",
      "\n",
      "           0       0.92      0.73      0.81        15\n",
      "           1       0.79      0.85      0.81        13\n",
      "           2       0.88      0.94      0.91        16\n",
      "           3       0.77      0.92      0.84        51\n",
      "           4       0.91      0.91      0.91        32\n",
      "           5       1.00      0.92      0.96        13\n",
      "           6       0.86      0.95      0.90        20\n",
      "           7       1.00      0.56      0.72        16\n",
      "           8       0.74      0.82      0.78        17\n",
      "           9       0.90      0.86      0.88        22\n",
      "          10       1.00      0.94      0.97        18\n",
      "          11       1.00      0.60      0.75        15\n",
      "          12       0.80      0.84      0.82        19\n",
      "          13       0.77      0.90      0.83        30\n",
      "          14       0.70      0.88      0.78         8\n",
      "          15       0.89      0.67      0.76        12\n",
      "          16       0.86      0.86      0.86        14\n",
      "          17       0.83      0.67      0.74        15\n",
      "          18       0.91      1.00      0.95        10\n",
      "\n",
      "    accuracy                           0.85       356\n",
      "   macro avg       0.87      0.83      0.84       356\n",
      "weighted avg       0.86      0.85      0.85       356\n",
      "\n"
     ]
    }
   ],
   "source": [
    "print(metrics.classification_report(y_test, y_pred))"
   ]
  },
  {
   "cell_type": "markdown",
   "metadata": {},
   "source": [
    "### Performing parameter tuning of the model --- using gridsearchcv"
   ]
  },
  {
   "cell_type": "code",
   "execution_count": 24,
   "metadata": {},
   "outputs": [],
   "source": [
    "parameters = [{'kernel': ['rbf'],\n",
    "               'gamma': [1e-4, 1e-3, 0.01, 0.1, 0.2, 0.5],\n",
    "               'C': [1, 10, 100, 1000]},\n",
    "              {'kernel': ['linear'], 'C': [1, 10, 100, 1000]}\n",
    "             ]"
   ]
  },
  {
   "cell_type": "code",
   "execution_count": 25,
   "metadata": {},
   "outputs": [
    {
     "data": {
      "text/plain": [
       "GridSearchCV(cv=5, estimator=SVC(),\n",
       "             param_grid=[{'C': [1, 10, 100, 1000],\n",
       "                          'gamma': [0.0001, 0.001, 0.01, 0.1, 0.2, 0.5],\n",
       "                          'kernel': ['rbf']},\n",
       "                         {'C': [1, 10, 100, 1000], 'kernel': ['linear']}])"
      ]
     },
     "execution_count": 25,
     "metadata": {},
     "output_type": "execute_result"
    }
   ],
   "source": [
    "svm_clf = GridSearchCV(svm.SVC(decision_function_shape='ovr'), parameters, cv=5)\n",
    "svm_clf.fit(X_train, y_train)"
   ]
  },
  {
   "cell_type": "code",
   "execution_count": 26,
   "metadata": {},
   "outputs": [
    {
     "data": {
      "text/plain": [
       "{'C': 10, 'kernel': 'linear'}"
      ]
     },
     "execution_count": 26,
     "metadata": {},
     "output_type": "execute_result"
    }
   ],
   "source": [
    "svm_clf.best_params_"
   ]
  },
  {
   "cell_type": "code",
   "execution_count": 27,
   "metadata": {},
   "outputs": [
    {
     "name": "stdout",
     "output_type": "stream",
     "text": [
      "0.118 (+/-0.066) for {'C': 1, 'gamma': 0.0001, 'kernel': 'rbf'}\n",
      "0.273 (+/-0.030) for {'C': 1, 'gamma': 0.001, 'kernel': 'rbf'}\n",
      "0.696 (+/-0.065) for {'C': 1, 'gamma': 0.01, 'kernel': 'rbf'}\n",
      "0.870 (+/-0.089) for {'C': 1, 'gamma': 0.1, 'kernel': 'rbf'}\n",
      "0.878 (+/-0.087) for {'C': 1, 'gamma': 0.2, 'kernel': 'rbf'}\n",
      "0.883 (+/-0.054) for {'C': 1, 'gamma': 0.5, 'kernel': 'rbf'}\n",
      "0.274 (+/-0.026) for {'C': 10, 'gamma': 0.0001, 'kernel': 'rbf'}\n",
      "0.691 (+/-0.075) for {'C': 10, 'gamma': 0.001, 'kernel': 'rbf'}\n",
      "0.864 (+/-0.084) for {'C': 10, 'gamma': 0.01, 'kernel': 'rbf'}\n",
      "0.908 (+/-0.058) for {'C': 10, 'gamma': 0.1, 'kernel': 'rbf'}\n",
      "0.911 (+/-0.071) for {'C': 10, 'gamma': 0.2, 'kernel': 'rbf'}\n",
      "0.897 (+/-0.070) for {'C': 10, 'gamma': 0.5, 'kernel': 'rbf'}\n",
      "0.696 (+/-0.082) for {'C': 100, 'gamma': 0.0001, 'kernel': 'rbf'}\n",
      "0.855 (+/-0.073) for {'C': 100, 'gamma': 0.001, 'kernel': 'rbf'}\n",
      "0.918 (+/-0.056) for {'C': 100, 'gamma': 0.01, 'kernel': 'rbf'}\n",
      "0.911 (+/-0.054) for {'C': 100, 'gamma': 0.1, 'kernel': 'rbf'}\n",
      "0.910 (+/-0.072) for {'C': 100, 'gamma': 0.2, 'kernel': 'rbf'}\n",
      "0.897 (+/-0.070) for {'C': 100, 'gamma': 0.5, 'kernel': 'rbf'}\n",
      "0.849 (+/-0.075) for {'C': 1000, 'gamma': 0.0001, 'kernel': 'rbf'}\n",
      "0.916 (+/-0.052) for {'C': 1000, 'gamma': 0.001, 'kernel': 'rbf'}\n",
      "0.924 (+/-0.035) for {'C': 1000, 'gamma': 0.01, 'kernel': 'rbf'}\n",
      "0.911 (+/-0.054) for {'C': 1000, 'gamma': 0.1, 'kernel': 'rbf'}\n",
      "0.910 (+/-0.072) for {'C': 1000, 'gamma': 0.2, 'kernel': 'rbf'}\n",
      "0.897 (+/-0.070) for {'C': 1000, 'gamma': 0.5, 'kernel': 'rbf'}\n",
      "0.896 (+/-0.044) for {'C': 1, 'kernel': 'linear'}\n",
      "0.925 (+/-0.034) for {'C': 10, 'kernel': 'linear'}\n",
      "0.922 (+/-0.031) for {'C': 100, 'kernel': 'linear'}\n",
      "0.920 (+/-0.033) for {'C': 1000, 'kernel': 'linear'}\n"
     ]
    }
   ],
   "source": [
    "means = svm_clf.cv_results_['mean_test_score']\n",
    "stds = svm_clf.cv_results_['std_test_score']\n",
    "for mean, std, params in zip(means, stds, svm_clf.cv_results_['params']):\n",
    "    print(\"%0.3f (+/-%0.03f) for %r\" % (mean, std * 2, params))"
   ]
  },
  {
   "cell_type": "code",
   "execution_count": 28,
   "metadata": {},
   "outputs": [],
   "source": [
    "y_pred_svm = svm_clf.predict(X_test)"
   ]
  },
  {
   "cell_type": "code",
   "execution_count": 29,
   "metadata": {},
   "outputs": [
    {
     "data": {
      "text/plain": [
       "0.9297752808988764"
      ]
     },
     "execution_count": 29,
     "metadata": {},
     "output_type": "execute_result"
    }
   ],
   "source": [
    "metrics.accuracy_score(y_test, y_pred_svm)"
   ]
  },
  {
   "cell_type": "code",
   "execution_count": 30,
   "metadata": {},
   "outputs": [
    {
     "name": "stdout",
     "output_type": "stream",
     "text": [
      "              precision    recall  f1-score   support\n",
      "\n",
      "           0       0.88      1.00      0.94        15\n",
      "           1       0.92      0.85      0.88        13\n",
      "           2       0.93      0.88      0.90        16\n",
      "           3       0.96      0.88      0.92        51\n",
      "           4       0.89      1.00      0.94        32\n",
      "           5       0.93      1.00      0.96        13\n",
      "           6       0.94      0.85      0.89        20\n",
      "           7       0.94      1.00      0.97        16\n",
      "           8       1.00      1.00      1.00        17\n",
      "           9       0.95      0.95      0.95        22\n",
      "          10       1.00      0.94      0.97        18\n",
      "          11       0.92      0.80      0.86        15\n",
      "          12       0.90      1.00      0.95        19\n",
      "          13       0.96      0.90      0.93        30\n",
      "          14       1.00      1.00      1.00         8\n",
      "          15       0.69      0.75      0.72        12\n",
      "          16       0.93      1.00      0.97        14\n",
      "          17       0.88      0.93      0.90        15\n",
      "          18       1.00      1.00      1.00        10\n",
      "\n",
      "    accuracy                           0.93       356\n",
      "   macro avg       0.93      0.93      0.93       356\n",
      "weighted avg       0.93      0.93      0.93       356\n",
      "\n"
     ]
    }
   ],
   "source": [
    "print(metrics.classification_report(y_test, y_pred_svm))"
   ]
  },
  {
   "cell_type": "markdown",
   "metadata": {
    "collapsed": true
   },
   "source": [
    "### Testing with mobile captured leaves which are not classified"
   ]
  },
  {
   "cell_type": "raw",
   "metadata": {
    "collapsed": true
   },
   "source": [
    "def bg_sub(filename):\n",
    "    test_img_path = '..\\\\mobile captures\\\\' + filename\n",
    "    main_img = cv2.imread(test_img_path)\n",
    "    img = cv2.cvtColor(main_img, cv2.COLOR_BGR2RGB)\n",
    "    resized_image = cv2.resize(img, (1600, 1200))\n",
    "    size_y,size_x,_ = img.shape\n",
    "    gs = cv2.cvtColor(resized_image,cv2.COLOR_RGB2GRAY)\n",
    "    blur = cv2.GaussianBlur(gs, (55,55),0)\n",
    "    ret_otsu,im_bw_otsu = cv2.threshold(blur,0,255,cv2.THRESH_BINARY_INV+cv2.THRESH_OTSU)\n",
    "    kernel = np.ones((50,50),np.uint8)\n",
    "    closing = cv2.morphologyEx(im_bw_otsu, cv2.MORPH_CLOSE, kernel)\n",
    "    \n",
    "    ret_image, contours, hierarchy = cv2.findContours(closing,cv2.RETR_TREE,cv2.CHAIN_APPROX_SIMPLE)\n",
    "    \n",
    "    contains = []\n",
    "    y_ri,x_ri, _ = resized_image.shape\n",
    "    for cc in contours:\n",
    "        yn = cv2.pointPolygonTest(cc,(x_ri//2,y_ri//2),False)\n",
    "        contains.append(yn)\n",
    "\n",
    "    val = [contains.index(temp) for temp in contains if temp>0]\n",
    "    index = val[0]\n",
    "    \n",
    "    black_img = np.empty([1200,1600,3],dtype=np.uint8)\n",
    "    black_img.fill(0)\n",
    "    \n",
    "    cnt = contours[index]\n",
    "    mask = cv2.drawContours(black_img, [cnt] , 0, (255,255,255), -1)\n",
    "    \n",
    "    maskedImg = cv2.bitwise_and(resized_image, mask)\n",
    "    white_pix = [255,255,255]\n",
    "    black_pix = [0,0,0]\n",
    "    \n",
    "    final_img = maskedImg\n",
    "    h,w,channels = final_img.shape\n",
    "    for x in range(0,w):\n",
    "        for y in range(0,h):\n",
    "            channels_xy = final_img[y,x]\n",
    "            if all(channels_xy == black_pix):\n",
    "                final_img[y,x] = white_pix\n",
    "    \n",
    "    return final_img"
   ]
  },
  {
   "cell_type": "code",
   "execution_count": null,
   "metadata": {},
   "outputs": [],
   "source": []
  },
  {
   "cell_type": "code",
   "execution_count": null,
   "metadata": {},
   "outputs": [],
   "source": []
  },
  {
   "cell_type": "markdown",
   "metadata": {},
   "source": [
    "### Test Data"
   ]
  },
  {
   "cell_type": "code",
   "execution_count": null,
   "metadata": {},
   "outputs": [],
   "source": []
  },
  {
   "cell_type": "code",
   "execution_count": 91,
   "metadata": {},
   "outputs": [],
   "source": [
    "filename = r'C:\\Users\\RAJEEV\\Desktop\\DataScience\\Majorproject\\Project\\code\\Test\\MK-S-013.jpg' \n",
    "bg_rem_img = filename"
   ]
  },
  {
   "cell_type": "code",
   "execution_count": 92,
   "metadata": {},
   "outputs": [
    {
     "data": {
      "text/plain": [
       "<matplotlib.image.AxesImage at 0x1e1800f77c0>"
      ]
     },
     "execution_count": 92,
     "metadata": {},
     "output_type": "execute_result"
    },
    {
     "data": {
      "image/png": "[encoded data removed]",
      "text/plain": [
       "<Figure size 432x288 with 1 Axes>"
      ]
     },
     "metadata": {
      "needs_background": "light"
     },
     "output_type": "display_data"
    }
   ],
   "source": [
    "im = cv2.imread(bg_rem_img)\n",
    "plt.imshow(im)"
   ]
  },
  {
   "cell_type": "code",
   "execution_count": 93,
   "metadata": {},
   "outputs": [],
   "source": [
    "def feature_extract(img):\n",
    "    names = ['area','perimeter','pysiological_length','pysiological_width','aspect_ratio','rectangularity','circularity', \\\n",
    "             'mean_r','mean_g','mean_b','stddev_r','stddev_g','stddev_b', \\\n",
    "             'contrast','correlation','inverse_difference_moments','entropy'\n",
    "            ]\n",
    "    df = pd.DataFrame([], columns=names)\n",
    "\n",
    "    #Preprocessing\n",
    "    im = cv2.cvtColor(img, cv2.COLOR_BGR2RGB)\n",
    "    plt.imshow(im)\n",
    "    plt.show()\n",
    "    \n",
    "    gs = cv2.cvtColor(img,cv2.COLOR_RGB2GRAY)\n",
    "    plt.imshow(gs,cmap='Greys_r')\n",
    "    plt.show()\n",
    "    \n",
    "    blur = cv2.GaussianBlur(gs, (25,25),0)\n",
    "    plt.imshow(blur,cmap='Greys_r')\n",
    "    plt.show()\n",
    "    \n",
    "    ret_otsu,im_bw_otsu = cv2.threshold(blur,0,255,cv2.THRESH_BINARY_INV+cv2.THRESH_OTSU)\n",
    "    plt.imshow(im_bw_otsu,cmap='Greys_r')\n",
    "    plt.show()\n",
    "    \n",
    "    kernel = np.ones((50,50),np.uint8)\n",
    "    closing = cv2.morphologyEx(im_bw_otsu, cv2.MORPH_CLOSE, kernel)\n",
    "    plt.imshow(closing,cmap='Greys_r')\n",
    "    plt.show()\n",
    "\n",
    "    #Shape features\n",
    "    contours, hierarchy = cv2.findContours(closing,cv2.RETR_TREE,cv2.CHAIN_APPROX_SIMPLE)\n",
    "    cnt = contours[0]\n",
    "    plottedContour = cv2.drawContours(gs,contours,-1,(0,255,0),10)\n",
    "    plt.imshow(plottedContour,cmap=\"Greys_r\")\n",
    "    plt.show()\n",
    "    \n",
    "    M = cv2.moments(cnt)\n",
    "    area = cv2.contourArea(cnt)\n",
    "    perimeter = cv2.arcLength(cnt,True)\n",
    "    x,y,w,h = cv2.boundingRect(cnt)\n",
    "    aspect_ratio = float(w)/h\n",
    "    rectangularity = w*h/area\n",
    "    circularity = ((perimeter)**2)/area\n",
    "\n",
    "    #Color features\n",
    "    red_channel = img[:,:,0]\n",
    "    green_channel = img[:,:,1]\n",
    "    blue_channel = img[:,:,2]\n",
    "    blue_channel[blue_channel == 255] = 0\n",
    "    green_channel[green_channel == 255] = 0\n",
    "    red_channel[red_channel == 255] = 0\n",
    "\n",
    "    red_mean = np.mean(red_channel)\n",
    "    green_mean = np.mean(green_channel)\n",
    "    blue_mean = np.mean(blue_channel)\n",
    "\n",
    "    red_std = np.std(red_channel)\n",
    "    green_std = np.std(green_channel)\n",
    "    blue_std = np.std(blue_channel)\n",
    "\n",
    "    #Texture features\n",
    "    textures = mt.features.haralick(gs)\n",
    "    ht_mean = textures.mean(axis=0)\n",
    "    contrast = ht_mean[1]\n",
    "    correlation = ht_mean[2]\n",
    "    inverse_diff_moments = ht_mean[4]\n",
    "    entropy = ht_mean[8]\n",
    "\n",
    "    vector = [area,perimeter,w,h,aspect_ratio,rectangularity,circularity,\\\n",
    "              red_mean,green_mean,blue_mean,red_std,green_std,blue_std,\\\n",
    "              contrast,correlation,inverse_diff_moments,entropy\n",
    "             ]\n",
    "\n",
    "    df_temp = pd.DataFrame([vector],columns=names)\n",
    "    df = df.append(df_temp)\n",
    "    \n",
    "    return df"
   ]
  },
  {
   "cell_type": "code",
   "execution_count": 94,
   "metadata": {},
   "outputs": [
    {
     "data": {
      "image/png": "[encoded data removed]",
      "text/plain": [
       "<Figure size 432x288 with 1 Axes>"
      ]
     },
     "metadata": {
      "needs_background": "light"
     },
     "output_type": "display_data"
    },
    {
     "data": {
      "image/png": "[encoded data removed]",
      "text/plain": [
       "<Figure size 432x288 with 1 Axes>"
      ]
     },
     "metadata": {
      "needs_background": "light"
     },
     "output_type": "display_data"
    },
    {
     "data": {
      "image/png": "[encoded data removed]",
      "text/plain": [
       "<Figure size 432x288 with 1 Axes>"
      ]
     },
     "metadata": {
      "needs_background": "light"
     },
     "output_type": "display_data"
    },
    {
     "data": {
      "image/png": "[encoded data removed]",
      "text/plain": [
       "<Figure size 432x288 with 1 Axes>"
      ]
     },
     "metadata": {
      "needs_background": "light"
     },
     "output_type": "display_data"
    },
    {
     "data": {
      "image/png": "[encoded data removed]",
      "text/plain": [
       "<Figure size 432x288 with 1 Axes>"
      ]
     },
     "metadata": {
      "needs_background": "light"
     },
     "output_type": "display_data"
    },
    {
     "data": {
      "image/png": "[encoded data removed]",
      "text/plain": [
       "<Figure size 432x288 with 1 Axes>"
      ]
     },
     "metadata": {
      "needs_background": "light"
     },
     "output_type": "display_data"
    },
    {
     "data": {
      "text/html": [
       "<div>\n",
       "<style scoped>\n",
       "    .dataframe tbody tr th:only-of-type {\n",
       "        vertical-align: middle;\n",
       "    }\n",
       "\n",
       "    .dataframe tbody tr th {\n",
       "        vertical-align: top;\n",
       "    }\n",
       "\n",
       "    .dataframe thead th {\n",
       "        text-align: right;\n",
       "    }\n",
       "</style>\n",
       "<table border=\"1\" class=\"dataframe\">\n",
       "  <thead>\n",
       "    <tr style=\"text-align: right;\">\n",
       "      <th></th>\n",
       "      <th>area</th>\n",
       "      <th>perimeter</th>\n",
       "      <th>pysiological_length</th>\n",
       "      <th>pysiological_width</th>\n",
       "      <th>aspect_ratio</th>\n",
       "      <th>rectangularity</th>\n",
       "      <th>circularity</th>\n",
       "      <th>mean_r</th>\n",
       "      <th>mean_g</th>\n",
       "      <th>mean_b</th>\n",
       "      <th>stddev_r</th>\n",
       "      <th>stddev_g</th>\n",
       "      <th>stddev_b</th>\n",
       "      <th>contrast</th>\n",
       "      <th>correlation</th>\n",
       "      <th>inverse_difference_moments</th>\n",
       "      <th>entropy</th>\n",
       "    </tr>\n",
       "  </thead>\n",
       "  <tbody>\n",
       "    <tr>\n",
       "      <th>0</th>\n",
       "      <td>247144.0</td>\n",
       "      <td>2372.213536</td>\n",
       "      <td>964</td>\n",
       "      <td>517</td>\n",
       "      <td>1.864603</td>\n",
       "      <td>2.01659</td>\n",
       "      <td>22.769709</td>\n",
       "      <td>10.812039</td>\n",
       "      <td>16.21129</td>\n",
       "      <td>11.331481</td>\n",
       "      <td>30.538863</td>\n",
       "      <td>42.441529</td>\n",
       "      <td>31.921378</td>\n",
       "      <td>68.724157</td>\n",
       "      <td>0.99024</td>\n",
       "      <td>0.93756</td>\n",
       "      <td>1.706081</td>\n",
       "    </tr>\n",
       "  </tbody>\n",
       "</table>\n",
       "</div>"
      ],
      "text/plain": [
       "       area    perimeter pysiological_length pysiological_width  aspect_ratio  \\\n",
       "0  247144.0  2372.213536                 964                517      1.864603   \n",
       "\n",
       "   rectangularity  circularity     mean_r    mean_g     mean_b   stddev_r  \\\n",
       "0         2.01659    22.769709  10.812039  16.21129  11.331481  30.538863   \n",
       "\n",
       "    stddev_g   stddev_b   contrast  correlation  inverse_difference_moments  \\\n",
       "0  42.441529  31.921378  68.724157      0.99024                     0.93756   \n",
       "\n",
       "    entropy  \n",
       "0  1.706081  "
      ]
     },
     "execution_count": 94,
     "metadata": {},
     "output_type": "execute_result"
    }
   ],
   "source": [
    "features_of_img = feature_extract(im)\n",
    "features_of_img"
   ]
  },
  {
   "cell_type": "code",
   "execution_count": 95,
   "metadata": {},
   "outputs": [
    {
     "name": "stdout",
     "output_type": "stream",
     "text": [
      "[[-1.70088459 -1.27317171 -0.4060727  -1.63217713  0.9586159   0.2572198\n",
      "   0.25095053 -1.57329741 -1.40950332 -0.79882437 -1.45164512 -0.82714658\n",
      "  -0.14343107  1.34069511 -3.34929312  2.38761395 -2.30632988]]\n"
     ]
    }
   ],
   "source": [
    "scaled_features = sc_X.transform(features_of_img)\n",
    "print(scaled_features)"
   ]
  },
  {
   "cell_type": "code",
   "execution_count": 96,
   "metadata": {
    "scrolled": true
   },
   "outputs": [
    {
     "name": "stdout",
     "output_type": "stream",
     "text": [
      "svm predict: [10]\n",
      "rf predict: [11]\n",
      "dt predict: [17]\n",
      "knn predict: [18]\n",
      "xg predict: [8]\n",
      "gb predict: [7]\n",
      "nb predict: [2]\n",
      "svm gridcv predict: [10]\n"
     ]
    }
   ],
   "source": [
    "y_pred_clf = clf.predict(scaled_features)\n",
    "y_pred_svm = svm_clf.predict(scaled_features)\n",
    "y_pred_rf = rf.predict(scaled_features)\n",
    "y_pred_dt = dt.predict(scaled_features)\n",
    "y_pred_knn = knn.predict(scaled_features)\n",
    "y_pred_xg = xg.predict(scaled_features)\n",
    "y_pred_gb = gb.predict(scaled_features)\n",
    "y_pred_nb = nb.predict(scaled_features)\n",
    "\n",
    "\n",
    "print(\"svm predict:\", y_pred_clf )\n",
    "print(\"rf predict:\", y_pred_rf )\n",
    "print(\"dt predict:\", y_pred_dt )\n",
    "print(\"knn predict:\", y_pred_knn )\n",
    "print(\"xg predict:\", y_pred_xg )\n",
    "print(\"gb predict:\", y_pred_gb )\n",
    "print(\"nb predict:\", y_pred_nb )\n",
    "print(\"svm gridcv predict:\", y_pred_svm )"
   ]
  },
  {
   "cell_type": "code",
   "execution_count": 50,
   "metadata": {},
   "outputs": [],
   "source": [
    "common_names = ['Rasna',\n",
    "                'Amaranthus Viridis (Arive-Dantu)',\n",
    "                'Artocarpus Heterophyllus (Jackfruit)',\n",
    "                'Azadirachta Indica (Neem)',\n",
    "                'Basella Alba (Basale)',\n",
    "                'Brassica Juncea (Indian Mustard)',\n",
    "                'Carissa Carandas (Karanda)',\n",
    "                'Citrus Limon (Lemon)',\n",
    "                'Ficus Religiosa (Peepal Tree)',\n",
    "                'Jasminum (Jasmine)', \n",
    "                'Murraya Koenigii (Curry)',  #10\n",
    "                'Moringa Oleifera (Drumstick)',\n",
    "                'Mentha(Mint)',\n",
    "                'Mangifera Indica (Mango)', \n",
    "                'Nyctanthes Arbor-tristis (Parijata)',\n",
    "                'Ocimum Tenuiflorum (Tulsi)',\n",
    "                'Punica Granatum (Pomegranate)',\n",
    "                'Syzygium Cumini (Jamun)',\n",
    "                'Syzygium Jambos (Rose Apple)'\n",
    "               ]"
   ]
  },
  {
   "cell_type": "code",
   "execution_count": 51,
   "metadata": {},
   "outputs": [
    {
     "data": {
      "text/plain": [
       "'Ficus Religiosa (Peepal Tree)'"
      ]
     },
     "execution_count": 51,
     "metadata": {},
     "output_type": "execute_result"
    }
   ],
   "source": [
    "common_names[y_pred_clf[0]]"
   ]
  },
  {
   "cell_type": "code",
   "execution_count": null,
   "metadata": {},
   "outputs": [],
   "source": []
  }
 ],
 "metadata": {
  "kernelspec": {
   "display_name": "Python 3",
   "language": "python",
   "name": "python3"
  },
  "language_info": {
   "codemirror_mode": {
    "name": "ipython",
    "version": 3
   },
   "file_extension": ".py",
   "mimetype": "text/x-python",
   "name": "python",
   "nbconvert_exporter": "python",
   "pygments_lexer": "ipython3",
   "version": "3.8.8"
  }
 },
 "nbformat": 4,
 "nbformat_minor": 2
}
